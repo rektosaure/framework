{
 "cells": [
  {
   "cell_type": "code",
   "execution_count": null,
   "metadata": {
    "vscode": {
     "languageId": "plaintext"
    }
   },
   "outputs": [],
   "source": [
    "# Installer les dépendances\n",
    "!pip install pandas pandas-datareader requests PyGithub yfinance\n",
    "!pip install -q --upgrade --no-cache-dir git+https://github.com/rongardF/tvdatafeed.git"
   ]
  },
  {
   "cell_type": "code",
   "execution_count": null,
   "metadata": {
    "vscode": {
     "languageId": "plaintext"
    }
   },
   "outputs": [],
   "source": [
    "# Importer les Classes\n",
    "import sys\n",
    "import os"
   ]
  },
  {
   "cell_type": "code",
   "execution_count": null,
   "metadata": {
    "vscode": {
     "languageId": "plaintext"
    }
   },
   "outputs": [],
   "source": [
    "# Ajouter le chemin vers le dossier 'src' pour pouvoir importer les modules\n",
    "sys.path.append('src')\n",
    "\n",
    "from app import main\n",
    "import logging"
   ]
  },
  {
   "cell_type": "code",
   "execution_count": null,
   "metadata": {
    "vscode": {
     "languageId": "plaintext"
    }
   },
   "outputs": [],
   "source": [
    "# Configurer le logger\n",
    "logging.basicConfig(\n",
    "    level=logging.WARNING,\n",
    "    format='%(asctime)s - %(name)s - %(levelname)s - %(message)s',\n",
    "    force=True\n",
    ")"
   ]
  },
  {
   "cell_type": "code",
   "execution_count": null,
   "metadata": {
    "vscode": {
     "languageId": "plaintext"
    }
   },
   "outputs": [],
   "source": [
    "# Définir les paramètres\n",
    "tickers_url = 'https://raw.githubusercontent.com/rektosaure/framework/refs/heads/main/tickers.json'\n",
    "gitrepo_owner = 'rektosaure'\n",
    "gitrepo_name = 'framework-data'\n",
    "gitrepo_folder = 'tmp'\n",
    "gitrepo_authkey = 'XXX'"
   ]
  },
  {
   "cell_type": "code",
   "execution_count": null,
   "metadata": {
    "vscode": {
     "languageId": "plaintext"
    }
   },
   "outputs": [],
   "source": [
    "# Appeler la fonction main\n",
    "main(\n",
    "    tickers_url=tickers_url,\n",
    "    gitrepo_owner=gitrepo_owner,\n",
    "    gitrepo_name=gitrepo_name,\n",
    "    gitrepo_authkey=gitrepo_authkey,\n",
    "    gitrepo_folder=gitrepo_folder\n",
    ")"
   ]
  }
 ],
 "metadata": {
  "language_info": {
   "name": "python"
  }
 },
 "nbformat": 4,
 "nbformat_minor": 2
}
